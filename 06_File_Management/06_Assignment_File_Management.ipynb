{
 "cells": [
  {
   "cell_type": "markdown",
   "metadata": {},
   "source": [
    "# Week 6 Assignment \n",
    "For this assignment, we're going to use the same files (in the transaction_files folder) that we used in class. If you missed the lecture, the folder is in github as well as the main slack channel. Please set it up so that that directory is in the same location as the assignment.\n",
    "\n",
    "\n",
    "Total Points: 100"
   ]
  },
  {
   "cell_type": "code",
   "execution_count": 1,
   "metadata": {},
   "outputs": [],
   "source": [
    "import os"
   ]
  },
  {
   "cell_type": "markdown",
   "metadata": {},
   "source": [
    "### 1. (10 pts) Assign a path variable\n",
    "\n",
    "Use the os.getcwd() function to assign the current working directory to a variable named path\n"
   ]
  },
  {
   "cell_type": "code",
   "execution_count": 2,
   "metadata": {},
   "outputs": [
    {
     "name": "stdout",
     "output_type": "stream",
     "text": [
      "/home/andrew/school/ta/student_repos/Xuhao_Dong/MSBA_655/06_File_Management\n"
     ]
    }
   ],
   "source": [
    "path=os.getcwd()\n",
    "print(path)"
   ]
  },
  {
   "cell_type": "markdown",
   "metadata": {},
   "source": [
    "10/10"
   ]
  },
  {
   "cell_type": "markdown",
   "metadata": {},
   "source": [
    "### 2. (15 pts) Listing Files\n",
    "\n",
    "Use a for loop to print the names of all csvs in the transaction_files directory\n"
   ]
  },
  {
   "cell_type": "code",
   "execution_count": 3,
   "metadata": {
    "scrolled": false
   },
   "outputs": [
    {
     "name": "stdout",
     "output_type": "stream",
     "text": [
      "random_file.txt\n",
      "file1.csv\n",
      "updated_file2.csv\n",
      "file3.csv\n",
      ".DS_Store\n",
      "file2.csv\n",
      "file4.csv\n"
     ]
    }
   ],
   "source": [
    "files = os.listdir('transaction_files')\n",
    "\n",
    "for f in files:\n",
    "\tprint(f)"
   ]
  },
  {
   "cell_type": "markdown",
   "metadata": {},
   "source": [
    "15/15"
   ]
  },
  {
   "cell_type": "markdown",
   "metadata": {},
   "source": [
    "### 3. (15 pts) Using replace()\n",
    "\n",
    "file2.csv has some mistakes in the price - ':' is used instead of '.' \n",
    "Read this file in, use replace to fix the issue, and print all lines"
   ]
  },
  {
   "cell_type": "code",
   "execution_count": 5,
   "metadata": {
    "scrolled": false
   },
   "outputs": [
    {
     "name": "stdout",
     "output_type": "stream",
     "text": [
      "['\\ufeffCustomerId', 'SalesOrderId', 'TransactionDate', 'GrandTotal', 'Status']\n",
      "['6', '37044091', '6/2/21', '199.75', 'returned']\n",
      "['7', '37024269', '6/2/21', '199.8', 'fulfilled']\n",
      "['8', '37198317', '6/2/21', '231.96', 'fulfilled']\n",
      "['9', '37089617', '6/2/21', '134.99', 'fulfilled']\n",
      "['10', '36760166', '6/2/21', '164.99', 'fulfilled']\n"
     ]
    }
   ],
   "source": [
    "input_file = 'file2.csv'\n",
    "with open(\"transaction_files/\" + input_file, 'r') as in_file:\n",
    "    for index, line in enumerate(in_file):\n",
    "        line = line.replace(':', '.')\n",
    "        line = line.strip().split(',')\n",
    "        print(line)        "
   ]
  },
  {
   "cell_type": "markdown",
   "metadata": {},
   "source": [
    "15/15"
   ]
  },
  {
   "cell_type": "markdown",
   "metadata": {},
   "source": [
    "### 4. (15 pts) Writing out one file\n",
    "\n",
    "Now that we've cleaned up those dates, let's write those lines out to a new file, called updated_file2.csv. You'll have to use strip() and split() to create a list from the file lines. You can either save these as a nested list, or write it all in one code chunk."
   ]
  },
  {
   "cell_type": "code",
   "execution_count": 6,
   "metadata": {},
   "outputs": [
    {
     "name": "stdout",
     "output_type": "stream",
     "text": [
      "['\\ufeffCustomerId', 'SalesOrderId', 'TransactionDate', 'GrandTotal', 'Status']\n",
      "['6', '37044091', '6/2/21', '199.75', 'returned']\n",
      "['7', '37024269', '6/2/21', '199.8', 'fulfilled']\n",
      "['8', '37198317', '6/2/21', '231.96', 'fulfilled']\n",
      "['9', '37089617', '6/2/21', '134.99', 'fulfilled']\n",
      "['10', '36760166', '6/2/21', '164.99', 'fulfilled']\n"
     ]
    }
   ],
   "source": [
    "input_file = 'file2.csv'\n",
    "output_file = 'updated_file2.csv' \n",
    "\n",
    "with open(\"transaction_files/\" + input_file, 'r') as in_file, open(\"transaction_files/\" + output_file, 'w') as out_file:\n",
    "    for index, line in enumerate(in_file):\n",
    "        line = line.replace(':', '.')\n",
    "        line = line.strip().split(',')\n",
    "        print(line)"
   ]
  },
  {
   "cell_type": "markdown",
   "metadata": {},
   "source": [
    "15/15"
   ]
  },
  {
   "cell_type": "markdown",
   "metadata": {},
   "source": [
    "### 5. (20 pts) Reading in multiple files \n",
    "\n",
    "Expanding on the loop you wrote in question two, as well as your work in questions 3 and 4, read in all files and print out all lines.\n",
    "\n",
    "If you had trouble creating a list of files before, use this: all_file_list = ['file1.csv','file2.csv', 'file3.csv', 'file4.csv']"
   ]
  },
  {
   "cell_type": "code",
   "execution_count": 7,
   "metadata": {
    "scrolled": true
   },
   "outputs": [
    {
     "name": "stdout",
     "output_type": "stream",
     "text": [
      "   CustomerId  SalesOrderId TransactionDate  GrandTotal     Status\n",
      "0           1      36777536          6/1/21      180.00  fulfilled\n",
      "1           2      36914274          6/1/21      119.94  fulfilled\n",
      "2           3      37054577          6/1/21      119.95   returned\n",
      "3           4      37137392          6/1/21      132.44  fulfilled\n",
      "4           5      37075736          6/1/21      158.90  fulfilled\n",
      "   CustomerId  SalesOrderId TransactionDate GrandTotal     Status\n",
      "0           6      37044091          6/2/21     199:75   returned\n",
      "1           7      37024269          6/2/21      199.8  fulfilled\n",
      "2           8      37198317          6/2/21     231.96  fulfilled\n",
      "3           9      37089617          6/2/21     134:99  fulfilled\n",
      "4          10      36760166          6/2/21     164.99  fulfilled\n",
      "   CustomerId  SalesOrderId TransactionDate  GrandTotal     Status\n",
      "0          11      36822901          6/3/20      152.43  fulfilled\n",
      "1          12      37144575          6/3/20      164.58  fulfilled\n",
      "2          13      38253462          6/3/20      164.77  fulfilled\n",
      "3          14      36921738          6/3/20      164.93  fulfilled\n",
      "4          15      36760582          6/3/20      164.94   returned\n",
      "   CustomerId  SalesOrderId TransactionDate  GrandTotal     Status\n",
      "0          16      37192976          6/4/21      131.94  fulfilled\n",
      "1          17      36832159          6/4/21      139.99  fulfilled\n",
      "2          18      36880815          6/4/21      124.92  fulfilled\n",
      "3          19      36945414          6/4/21      174.97   returned\n",
      "4          20      38211108          6/4/21      100.88  fulfilled\n"
     ]
    }
   ],
   "source": [
    "import pandas as pd\n",
    "\n",
    "df1=pd.read_csv('transaction_files/file1.csv')\n",
    "df2=pd.read_csv('transaction_files/file2.csv')\n",
    "df3=pd.read_csv('transaction_files/file3.csv')\n",
    "df4=pd.read_csv('transaction_files/file4.csv')\n",
    "\n",
    "print(df1)\n",
    "print(df2)\n",
    "print(df3)\n",
    "print(df4)\n",
    "\n",
    "\n",
    "\n",
    "\n"
   ]
  },
  {
   "cell_type": "markdown",
   "metadata": {},
   "source": [
    "20/20"
   ]
  },
  {
   "cell_type": "markdown",
   "metadata": {},
   "source": [
    "### 6. (25 pts) Writing to different files\n",
    "\n",
    "The sales orders in our files have a Status field. Most are marked as 'fulfilled', but some are 'returned'. Let's read in all of the lines from the files and then write them out to two files, 'fulfilled_orders.csv' and 'returned_orders.csv', depending on the status. There are 4 'returned' orders and 16 'fulfilled' orders.\n"
   ]
  },
  {
   "cell_type": "code",
   "execution_count": 8,
   "metadata": {},
   "outputs": [
    {
     "name": "stdout",
     "output_type": "stream",
     "text": [
      "   CustomerId  SalesOrderId TransactionDate GrandTotal     Status\n",
      "0           1      36777536          6/1/21      180.0  fulfilled\n",
      "1           2      36914274          6/1/21     119.94  fulfilled\n",
      "3           4      37137392          6/1/21     132.44  fulfilled\n",
      "4           5      37075736          6/1/21      158.9  fulfilled\n",
      "1           7      37024269          6/2/21      199.8  fulfilled\n",
      "2           8      37198317          6/2/21     231.96  fulfilled\n",
      "3           9      37089617          6/2/21     134:99  fulfilled\n",
      "4          10      36760166          6/2/21     164.99  fulfilled\n",
      "0          11      36822901          6/3/20     152.43  fulfilled\n",
      "1          12      37144575          6/3/20     164.58  fulfilled\n",
      "2          13      38253462          6/3/20     164.77  fulfilled\n",
      "3          14      36921738          6/3/20     164.93  fulfilled\n",
      "0          16      37192976          6/4/21     131.94  fulfilled\n",
      "1          17      36832159          6/4/21     139.99  fulfilled\n",
      "2          18      36880815          6/4/21     124.92  fulfilled\n",
      "4          20      38211108          6/4/21     100.88  fulfilled\n",
      "   CustomerId  SalesOrderId TransactionDate GrandTotal    Status\n",
      "2           3      37054577          6/1/21     119.95  returned\n",
      "0           6      37044091          6/2/21     199:75  returned\n",
      "4          15      36760582          6/3/20     164.94  returned\n",
      "3          19      36945414          6/4/21     174.97  returned\n"
     ]
    }
   ],
   "source": [
    "fulfilled_orders=pd.DataFrame()\n",
    "\n",
    "returned_orders=pd.DataFrame()\n",
    "\n",
    "fulfilled_orders=fulfilled_orders.append(df1.loc[df1['Status'] == 'fulfilled'])\n",
    "\n",
    "returned_orders=returned_orders.append(df1.loc[df1['Status'] == 'returned'])\n",
    "\n",
    "fulfilled_orders=fulfilled_orders.append(df2.loc[df2['Status'] == 'fulfilled'])\n",
    "returned_orders=returned_orders.append(df2.loc[df2['Status'] == 'returned'])\n",
    "\n",
    "fulfilled_orders=fulfilled_orders.append(df3.loc[df3['Status'] == 'fulfilled'])\n",
    "returned_orders=returned_orders.append(df3.loc[df3['Status'] == 'returned'])\n",
    "\n",
    "fulfilled_orders=fulfilled_orders.append(df4.loc[df4['Status'] == 'fulfilled'])\n",
    "returned_orders=returned_orders.append(df4.loc[df4['Status'] == 'returned'])\n",
    "\n",
    "print(fulfilled_orders)\n",
    "print(returned_orders)\n",
    "\n",
    "# Writing the dataframes to differnet csv files\n",
    "fulfilled_orders.to_csv('fulfilled_orders.csv')\n",
    "returned_orders.to_csv('returned_orders.csv')"
   ]
  },
  {
   "cell_type": "markdown",
   "metadata": {},
   "source": [
    "25/25"
   ]
  }
 ],
 "metadata": {
  "kernelspec": {
   "display_name": "Python 3",
   "language": "python",
   "name": "python3"
  },
  "language_info": {
   "codemirror_mode": {
    "name": "ipython",
    "version": 3
   },
   "file_extension": ".py",
   "mimetype": "text/x-python",
   "name": "python",
   "nbconvert_exporter": "python",
   "pygments_lexer": "ipython3",
   "version": "3.8.5"
  }
 },
 "nbformat": 4,
 "nbformat_minor": 2
}
