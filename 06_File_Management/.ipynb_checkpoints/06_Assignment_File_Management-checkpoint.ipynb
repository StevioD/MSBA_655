{
 "cells": [
  {
   "cell_type": "markdown",
   "metadata": {},
   "source": [
    "# Week 6 Assignment \n",
    "For this assignment, we're going to use the same files (in the transaction_files folder) that we used in class. If you missed the lecture, the folder is in github as well as the main slack channel. Please set it up so that that directory is in the same location as the assignment.\n",
    "\n",
    "\n",
    "Total Points: 100"
   ]
  },
  {
   "cell_type": "code",
   "execution_count": 2,
   "metadata": {},
   "outputs": [],
   "source": [
    "import os"
   ]
  },
  {
   "cell_type": "markdown",
   "metadata": {},
   "source": [
    "### 1. (10 pts) Assign a path variable\n",
    "\n",
    "Use the os.getcwd() function to assign the current working directory to a variable named path\n"
   ]
  },
  {
   "cell_type": "code",
   "execution_count": 3,
   "metadata": {},
   "outputs": [],
   "source": []
  },
  {
   "cell_type": "markdown",
   "metadata": {},
   "source": [
    "### 2. (15 pts) Listing Files\n",
    "\n",
    "Use a for loop to print the names of all csvs in the transaction_files directory\n"
   ]
  },
  {
   "cell_type": "code",
   "execution_count": null,
   "metadata": {},
   "outputs": [],
   "source": []
  },
  {
   "cell_type": "markdown",
   "metadata": {},
   "source": [
    "### 3. (15 pts) Using replace()\n",
    "\n",
    "file2.csv has some mistakes in the price - ':' is used instead of '.' \n",
    "Read this file in, use replace to fix the issue, and print all lines"
   ]
  },
  {
   "cell_type": "code",
   "execution_count": null,
   "metadata": {},
   "outputs": [],
   "source": []
  },
  {
   "cell_type": "markdown",
   "metadata": {},
   "source": [
    "### 4. (15 pts) Writing out one file\n",
    "\n",
    "Now that we've cleaned up those dates, let's write those lines out to a new file, called updated_file2.csv. You'll have to use strip() and split() to create a list from the file lines. You can either save these as a nested list, or write it all in one code chunk."
   ]
  },
  {
   "cell_type": "code",
   "execution_count": null,
   "metadata": {},
   "outputs": [],
   "source": []
  },
  {
   "cell_type": "markdown",
   "metadata": {},
   "source": [
    "### 5. (20 pts) Reading in multiple files \n",
    "\n",
    "Expanding on the loop you wrote in question two, as well as your work in questions 3 and 4, read in all files and print out all lines.\n",
    "\n",
    "If you had trouble creating a list of files before, use this: all_file_list = ['file1.csv','file2.csv', 'file3.csv', 'file4.csv']"
   ]
  },
  {
   "cell_type": "code",
   "execution_count": null,
   "metadata": {},
   "outputs": [],
   "source": []
  },
  {
   "cell_type": "markdown",
   "metadata": {},
   "source": [
    "### 6. (25 pts) Writing to different files\n",
    "\n",
    "The sales orders in our files have a Status field. Most are marked as 'fulfilled', but some are 'returned'. Let's read in all of the lines from the files and then write them out to two files, 'fulfilled_orders.csv' and 'returned_orders.csv', depending on the status. There are 4 'returned' orders and 16 'fulfilled' orders.\n"
   ]
  },
  {
   "cell_type": "code",
   "execution_count": null,
   "metadata": {},
   "outputs": [],
   "source": []
  }
 ],
 "metadata": {
  "kernelspec": {
   "display_name": "Python 3",
   "language": "python",
   "name": "python3"
  },
  "language_info": {
   "codemirror_mode": {
    "name": "ipython",
    "version": 3
   },
   "file_extension": ".py",
   "mimetype": "text/x-python",
   "name": "python",
   "nbconvert_exporter": "python",
   "pygments_lexer": "ipython3",
   "version": "3.8.5"
  }
 },
 "nbformat": 4,
 "nbformat_minor": 2
}
