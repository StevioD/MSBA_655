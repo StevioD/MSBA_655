{
 "cells": [
  {
   "cell_type": "markdown",
   "metadata": {},
   "source": [
    "# Week 4 Assignment"
   ]
  },
  {
   "cell_type": "markdown",
   "metadata": {},
   "source": [
    "This week test some list commands, try out loops, and combine them all into functions! \n"
   ]
  },
  {
   "cell_type": "markdown",
   "metadata": {},
   "source": [
    "Total Points: 100"
   ]
  },
  {
   "cell_type": "markdown",
   "metadata": {},
   "source": [
    "### 1. (10 pts) Basic List Commands"
   ]
  },
  {
   "cell_type": "markdown",
   "metadata": {},
   "source": [
    "Let's just ease in with some list commands."
   ]
  },
  {
   "cell_type": "code",
   "execution_count": 41,
   "metadata": {},
   "outputs": [],
   "source": [
    "## From the list of state abbreviations write code that does the the following:\n",
    "## 1) Change MT into MO\n",
    "## 2) Sort the list in alphabetical order using both the sort method and built-in function \n",
    "## 3) What is the difference between the two? (i.e. what is the output)\n",
    "## 4) Add the following list of states to the end of the list in one call: [\"OR\", \"FL\", \"HI\"]\n",
    "      # expected output of the print statement: [\"AK\", \"CA\", \"WA\", \"AZ\", \"MT\", \"CO\", \"NV\", \"MA\", \"SD\", \"OR\", \"FL\", \"HI\"]\n",
    "\n",
    "states = [\"AK\", \"CA\", \"WA\", \"AZ\", \"MT\", \"CO\", \"NV\", \"MA\", \"SD\"]\n"
   ]
  },
  {
   "cell_type": "code",
   "execution_count": 48,
   "metadata": {},
   "outputs": [
    {
     "data": {
      "text/plain": [
       "['AK', 'CA', 'WA', 'AZ', 'MO', 'CO', 'NV', 'MA', 'SD']"
      ]
     },
     "execution_count": 48,
     "metadata": {},
     "output_type": "execute_result"
    }
   ],
   "source": [
    "#1 Goes Here\n",
    "states = [\"AK\", \"CA\", \"WA\", \"AZ\", \"MT\", \"CO\", \"NV\", \"MA\", \"SD\"]\n",
    "states[4] = 'MO'\n",
    "states"
   ]
  },
  {
   "cell_type": "code",
   "execution_count": 21,
   "metadata": {},
   "outputs": [
    {
     "data": {
      "text/plain": [
       "['AK', 'AZ', 'CA', 'CO', 'MA', 'MT', 'NV', 'SD', 'WA']"
      ]
     },
     "execution_count": 21,
     "metadata": {},
     "output_type": "execute_result"
    }
   ],
   "source": [
    "#2 Goes Here\n",
    "states.sort()\n",
    "states\n"
   ]
  },
  {
   "cell_type": "code",
   "execution_count": 49,
   "metadata": {},
   "outputs": [
    {
     "data": {
      "text/plain": [
       "['AK', 'AZ', 'CA', 'CO', 'MA', 'MO', 'NV', 'SD', 'WA']"
      ]
     },
     "execution_count": 49,
     "metadata": {},
     "output_type": "execute_result"
    }
   ],
   "source": [
    "#2 built-in \n",
    "sorted(states)"
   ]
  },
  {
   "cell_type": "code",
   "execution_count": 24,
   "metadata": {},
   "outputs": [
    {
     "data": {
      "text/plain": [
       "[1, 2, 3]"
      ]
     },
     "execution_count": 24,
     "metadata": {},
     "output_type": "execute_result"
    }
   ],
   "source": [
    "#3 Goes Here\n",
    "x = [3,2,1]\n",
    "sorted(x)\n",
    "x\n",
    "\n",
    "# This way it didn't change the list x, just simply sort it. \n",
    "\n"
   ]
  },
  {
   "cell_type": "code",
   "execution_count": null,
   "metadata": {},
   "outputs": [],
   "source": [
    "x = [3,2,1]\n",
    "x.sort()\n",
    "x\n",
    "# This way the list x changed to [1,2,3]."
   ]
  },
  {
   "cell_type": "code",
   "execution_count": 43,
   "metadata": {
    "scrolled": true
   },
   "outputs": [
    {
     "name": "stdout",
     "output_type": "stream",
     "text": [
      "['AK', 'CA', 'WA', 'AZ', 'MO', 'CO', 'NV', 'MA', 'SD', 'OR', 'FL', 'HI']\n"
     ]
    }
   ],
   "source": [
    "#4 Goes Here\n",
    "n_states=[\"OR\", \"FL\", \"HI\"]\n",
    "states.extend(n_states)\n",
    "print(states)"
   ]
  },
  {
   "cell_type": "markdown",
   "metadata": {},
   "source": [
    "10/10"
   ]
  },
  {
   "cell_type": "markdown",
   "metadata": {},
   "source": [
    "### 2. (10 Points) Counting Repeating Items in a List"
   ]
  },
  {
   "cell_type": "markdown",
   "metadata": {},
   "source": [
    "Below is a list of names. You want to know how many people have the same name. Write a program that counts how many of each name appear in the list. (Hint: There is a list operation to do this one name at a time, but the Collections library has a pretty cool Counter tool you might want to try.)"
   ]
  },
  {
   "cell_type": "code",
   "execution_count": 53,
   "metadata": {
    "scrolled": true
   },
   "outputs": [
    {
     "name": "stdout",
     "output_type": "stream",
     "text": [
      "{'John': 3, 'Jake': 2}\n"
     ]
    }
   ],
   "source": [
    "names = ['John', 'Jordan', 'Joseph', 'Jake', 'Jared', 'John', 'Jake', 'Jude', 'Jace', 'John']\n",
    "import collections\n",
    "frequencies = collections.Counter(names)\n",
    "repeated = {}\n",
    "\n",
    "for key, value in frequencies.items():\n",
    "    if value > 1:\n",
    "        repeated[key] = value\n",
    "        \n",
    "print(repeated)"
   ]
  },
  {
   "cell_type": "markdown",
   "metadata": {},
   "source": [
    "10/10"
   ]
  },
  {
   "cell_type": "markdown",
   "metadata": {},
   "source": [
    "### 3. (10 Points) While Loop Troubleshooting"
   ]
  },
  {
   "cell_type": "markdown",
   "metadata": {},
   "source": [
    "1) What is the issue with the code below? \n",
    "\n",
    "2) Write the additional line or lines of code that would correct it. "
   ]
  },
  {
   "cell_type": "code",
   "execution_count": 26,
   "metadata": {
    "scrolled": true
   },
   "outputs": [
    {
     "name": "stdout",
     "output_type": "stream",
     "text": [
      "0  is  less than 10\n"
     ]
    }
   ],
   "source": [
    "# The condition is keep being true as number =0 <10, which cause the iteration keep running to infinity times.\n",
    "number = 0\n",
    "\n",
    "if number < 10 :\n",
    "    print(number, \" is  less than 10\")\n",
    "else:\n",
    "    print(number, \" is not less than 5\")\n",
    "     "
   ]
  },
  {
   "cell_type": "code",
   "execution_count": 20,
   "metadata": {
    "scrolled": true
   },
   "outputs": [
    {
     "name": "stdout",
     "output_type": "stream",
     "text": [
      "1\n",
      "2\n",
      "3\n",
      "4\n",
      "No Break\n",
      "\n"
     ]
    }
   ],
   "source": [
    "i = 0 \n",
    "while i < 4:\n",
    "    i += 1\n",
    "    print(i) \n",
    "else: # Executed because no break in for \n",
    "    print(\"No Break\\n\") "
   ]
  },
  {
   "cell_type": "markdown",
   "metadata": {},
   "source": [
    "10/10"
   ]
  },
  {
   "cell_type": "markdown",
   "metadata": {},
   "source": [
    "### 4. (10 Points) Using Lists & Conditionals in a Function"
   ]
  },
  {
   "cell_type": "markdown",
   "metadata": {},
   "source": [
    "Define a function that checks if a country has been visited based on its existance in the list below.\n",
    "\n",
    "#### Expected output for this problem:\n",
    "\n",
    "visited('Germany', countries) >>>> \"You have visited Germany!\""
   ]
  },
  {
   "cell_type": "code",
   "execution_count": 15,
   "metadata": {},
   "outputs": [
    {
     "name": "stdout",
     "output_type": "stream",
     "text": [
      "You have visited Germany!\n"
     ]
    }
   ],
   "source": [
    "countries = ['Germany', 'Scotland', 'Brazil', 'Japan', 'Egypt']\n",
    "\n",
    "## Define function below\n",
    "def visited(given, countries):\n",
    "    if given in countries:\n",
    "        print(\"You have visited \" + given + \"!\")\n",
    "    else:\n",
    "        print(\"You have not visited \" + given + \"!\")\n",
    "\n",
    "visited('Germany', countries)"
   ]
  },
  {
   "cell_type": "markdown",
   "metadata": {},
   "source": [
    "10/10"
   ]
  },
  {
   "cell_type": "markdown",
   "metadata": {},
   "source": [
    "### 5. (10 pts) List Iteration with a Loop"
   ]
  },
  {
   "cell_type": "markdown",
   "metadata": {},
   "source": [
    "Given the list of numbers below, write a for loop that:\n",
    "\n",
    "    1) Continues if the index = 0\n",
    "    2) Checks if the number is divisible by its index with no remainder\n",
    "    3) If the statement above is true, adds the number to a new list\n",
    "    \n",
    "Please print out your list.\n",
    "\n",
    "#### Expected output for this problem: \n",
    "print(divisor_list) >>> [16, 50, 70]"
   ]
  },
  {
   "cell_type": "code",
   "execution_count": 4,
   "metadata": {},
   "outputs": [
    {
     "name": "stdout",
     "output_type": "stream",
     "text": [
      "[16, 50, 70]\n"
     ]
    }
   ],
   "source": [
    "listNums = [0,16,25,34,35,50,55,70]\n",
    "\n",
    "## Loop Here\n",
    "divisor_list=[] \n",
    "\n",
    "for index in range(len(listNums)):\n",
    "    if index==0:\n",
    "        continue\n",
    "    \n",
    "    if listNums[index]%index==0:\n",
    "        divisor_list.append(listNums[index])\n",
    "               \n",
    "## Print Statement Here\n",
    "print(divisor_list)"
   ]
  },
  {
   "cell_type": "markdown",
   "metadata": {},
   "source": [
    "10/10"
   ]
  },
  {
   "cell_type": "markdown",
   "metadata": {},
   "source": [
    "### 6. (15 Points) List iteration & list comprehension"
   ]
  },
  {
   "cell_type": "markdown",
   "metadata": {},
   "source": [
    "Two Parts:  \n",
    "\n",
    "1) Iterate over list of emails below and add any gmail address into a list called \"gmail\", the yahoo emails into a list called 'yahoo', and hotmail into a 'hotmail' list. Print out each list. "
   ]
  },
  {
   "cell_type": "code",
   "execution_count": 44,
   "metadata": {},
   "outputs": [
    {
     "name": "stdout",
     "output_type": "stream",
     "text": [
      "['sam@gmail.com', 'james@gmail.com']\n",
      "['sarah@yahoo.com']\n",
      "['emily@hotmail.com']\n",
      "['sam@gmail.com', 'james@gmail.com']\n"
     ]
    }
   ],
   "source": [
    "emails = [\"sam@gmail.com\", \"sarah@yahoo.com\", \"emily@hotmail.com\", \"james@gmail.com\"]\n",
    "\n",
    "gmail,yahoo,hotmail = [],[],[]\n",
    "\n",
    "for email in emails:\n",
    "    if \"@gmail.com\" in email:\n",
    "        gmail.append(email)\n",
    "    elif \"@yahoo.com\" in email:\n",
    "        yahoo.append(email)\n",
    "    elif \"@hotmail.com\" in email:\n",
    "        hotmail.append(email)\n",
    "    \n",
    "print(gmail)\n",
    "print(yahoo)\n",
    "print(hotmail)\n",
    "\n"
   ]
  },
  {
   "cell_type": "markdown",
   "metadata": {},
   "source": [
    "2) Rewrite the for loop above as a list comprehension, but just add any @gmail email into a list called gmail. Print your list out. "
   ]
  },
  {
   "cell_type": "code",
   "execution_count": 46,
   "metadata": {
    "scrolled": true
   },
   "outputs": [
    {
     "name": "stdout",
     "output_type": "stream",
     "text": [
      "['sam@gmail.com', 'james@gmail.com']\n"
     ]
    }
   ],
   "source": [
    "emails = [\"sam@gmail.com\", \"sarah@yahoo.com\", \"emily@hotmail.com\", \"james@gmail.com\"]\n",
    "\n",
    "gmail = [email for email in emails if \"@gmail.com\" in email]\n",
    "print(gmail)"
   ]
  },
  {
   "cell_type": "markdown",
   "metadata": {},
   "source": [
    "15/15"
   ]
  },
  {
   "cell_type": "markdown",
   "metadata": {},
   "source": [
    "### 7. (10 Points) Rewrite the For Loop as a While Loop"
   ]
  },
  {
   "cell_type": "markdown",
   "metadata": {},
   "source": [
    "Rewrite the for loop below as a while loop."
   ]
  },
  {
   "cell_type": "code",
   "execution_count": 68,
   "metadata": {},
   "outputs": [
    {
     "name": "stdout",
     "output_type": "stream",
     "text": [
      "8\n",
      "9\n",
      "11\n",
      "12\n",
      "13\n",
      "14\n",
      "16\n",
      "17\n",
      "18\n",
      "19\n"
     ]
    }
   ],
   "source": [
    "for x in range (8,20):\n",
    "    #if (x == 15): break\n",
    "    if (x % 5 == 0): \n",
    "            continue\n",
    "    print(x)"
   ]
  },
  {
   "cell_type": "code",
   "execution_count": 69,
   "metadata": {},
   "outputs": [
    {
     "name": "stdout",
     "output_type": "stream",
     "text": [
      "9\n",
      "11\n",
      "12\n",
      "13\n",
      "14\n",
      "16\n",
      "17\n",
      "18\n",
      "19\n"
     ]
    }
   ],
   "source": [
    "## While loop goes here:\n",
    "x = 8\n",
    "while x <20:\n",
    "    x += 1\n",
    "    if x % 5 == 0:\n",
    "        continue\n",
    "    print(x)\n",
    " \n",
    "    \n",
    "       \n",
    "  \n",
    "\n",
    "    \n"
   ]
  },
  {
   "cell_type": "markdown",
   "metadata": {},
   "source": [
    "8/10 Needed to start x at 7 to get correct output"
   ]
  },
  {
   "cell_type": "markdown",
   "metadata": {},
   "source": [
    "### 8. (10 Points) Nested Lists & Loops"
   ]
  },
  {
   "cell_type": "markdown",
   "metadata": {},
   "source": [
    "Iterate through the nested list below and add up the elements in each list. Print out the summation of the values after the loop is executed. \n",
    "\n",
    "#### Expected Output >>> 21"
   ]
  },
  {
   "cell_type": "code",
   "execution_count": 123,
   "metadata": {
    "scrolled": true
   },
   "outputs": [
    {
     "name": "stdout",
     "output_type": "stream",
     "text": [
      "21\n"
     ]
    }
   ],
   "source": [
    "list_of_lists = [[1, 2], [3, 4], [5, 6]]\n",
    "## Write Loop Here\n",
    "sum_list = sum(sum(x)for x in list_of_lists)\n",
    "## Print Statement Here\n",
    "print(sum_list)"
   ]
  },
  {
   "cell_type": "markdown",
   "metadata": {},
   "source": [
    "10/10"
   ]
  },
  {
   "cell_type": "markdown",
   "metadata": {},
   "source": [
    "### 9. (15 Points) Nested Loops"
   ]
  },
  {
   "cell_type": "markdown",
   "metadata": {},
   "source": [
    "Below we have a nested list that represents students test scores for tests 1, 2, & 3 in Math 101, with each test's scores broken out into their own list. The course teacher wants to know the average of each test. So you need to write a loop that iterates over the lists and returns the average for each test. Since this is something the teacher may need to do every semester, write it as function. \n",
    "\n",
    "#### Expected Output\n",
    "average_scores(test_scores) >>> [79.25, 86.25, 93.4]"
   ]
  },
  {
   "cell_type": "code",
   "execution_count": 50,
   "metadata": {
    "scrolled": true
   },
   "outputs": [
    {
     "name": "stdout",
     "output_type": "stream",
     "text": [
      "[79.25, 86.25, 93.4]\n"
     ]
    }
   ],
   "source": [
    "\n",
    "test_scores = [ [ 72, 88, 81, 76],  # test 1\n",
    "[ 82, 89, 84, 90],                  # test 2\n",
    "[ 91, 90, 94, 93, 99]]              # test 3\n",
    "\n",
    "# initialize empty list to store averages in\n",
    "\n",
    "# write function here\n",
    "\n",
    "  # hint 1: use the length function to get the correct average based on the number of scores for each test\n",
    "  # suggestion: write the for loop and then build the function over it\n",
    " \n",
    "\n",
    "empty_list = []               \n",
    "\n",
    "def average_scores(test_scores) :     \n",
    "    for test in test_scores :         \n",
    "        number_of_score = len(test)     \n",
    "        sum = 0                       \n",
    "        for each_score in test  :     \n",
    "            sum = sum + each_score\n",
    "        avg = sum / number_of_score   \n",
    "        empty_list.append(avg)          \n",
    "        \n",
    "    return empty_list         \n",
    "    \n",
    "print(average_scores(test_scores))       \n"
   ]
  },
  {
   "cell_type": "markdown",
   "metadata": {},
   "source": [
    "15/15"
   ]
  }
 ],
 "metadata": {
  "kernelspec": {
   "display_name": "Python 3",
   "language": "python",
   "name": "python3"
  },
  "language_info": {
   "codemirror_mode": {
    "name": "ipython",
    "version": 3
   },
   "file_extension": ".py",
   "mimetype": "text/x-python",
   "name": "python",
   "nbconvert_exporter": "python",
   "pygments_lexer": "ipython3",
   "version": "3.8.5"
  }
 },
 "nbformat": 4,
 "nbformat_minor": 4
}
