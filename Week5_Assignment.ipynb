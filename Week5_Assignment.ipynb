{
 "cells": [
  {
   "cell_type": "markdown",
   "metadata": {},
   "source": [
    "# Week 5 Assignment\n",
    "\n",
    "This week focuses on using strings & dictionaries as well as building on our use of lists, loops, & functions. \n",
    "\n",
    "Total Points: 100"
   ]
  },
  {
   "cell_type": "markdown",
   "metadata": {},
   "source": [
    "### 1. (10 Points) Strings & F-Strings\n",
    "\n",
    "Rewrite the the statement below using an f-string. For Celcius, run the calculation directly in the string (i.e. no need to use the variable and round it to 2 decimal places.)\n",
    "\n",
    "#### Expected Output >>>\n",
    "\"The temp is 78 degrees Farenheit, which is 25.56 degrees Celcius. I'm just grateful that it's summer.\""
   ]
  },
  {
   "cell_type": "code",
   "execution_count": 18,
   "metadata": {},
   "outputs": [
    {
     "data": {
      "text/plain": [
       "\"The temp is 78 degrees Farenheit, which is 25.5576 degrees Celcius. I'm just grateful that it's summer.\""
      ]
     },
     "execution_count": 18,
     "metadata": {},
     "output_type": "execute_result"
    }
   ],
   "source": [
    "regtemp = 78\n",
    "celcius = (78 - 32) * .5556\n",
    "season = \"summer\" \n",
    "\n",
    "\"The temp is {} degrees Farenheit, which is {} degrees Celcius. I'm just grateful that it's {}.\".format(\n",
    "    regtemp, celcius, season)\n"
   ]
  },
  {
   "cell_type": "code",
   "execution_count": 19,
   "metadata": {},
   "outputs": [
    {
     "name": "stdout",
     "output_type": "stream",
     "text": [
      "The temp is 78 degrees Farenheit, which is 25.5576 degrees Celcius. I'm just grateful that it's summer.\n"
     ]
    }
   ],
   "source": [
    "sentence = f\"The temp is {regtemp} degrees Farenheit, which is {celcius} degrees Celcius. I'm just grateful that it's {season}.\"\n",
    "print(sentence)"
   ]
  },
  {
   "cell_type": "markdown",
   "metadata": {},
   "source": [
    "5/10 Needed to do calculation in the f string"
   ]
  },
  {
   "cell_type": "markdown",
   "metadata": {},
   "source": [
    "### 2. (10 Points) Strings to Lists\n",
    "\n",
    "Write a program that splits the note below into a list of letters and then replaces all the a's with o's. Rejoin the letters into a sentence and print it.  \n",
    "\n",
    "#### Expected Result >>> \n",
    "How mony o's ore in this sentence ond con we moke sure to reploce them with o's?"
   ]
  },
  {
   "cell_type": "code",
   "execution_count": 22,
   "metadata": {
    "scrolled": true
   },
   "outputs": [
    {
     "name": "stdout",
     "output_type": "stream",
     "text": [
      "[\"How mony o's ore in this sentence ond con we moke sure to reploce them with o's?\"]\n"
     ]
    }
   ],
   "source": [
    "note = \"How many a's are in this sentence and can we make sure to replace them with o's?\"\n",
    "notes = note.replace(\"a\",\"o\")\n",
    "print(notes.split('\",\"'))"
   ]
  },
  {
   "cell_type": "markdown",
   "metadata": {},
   "source": [
    "5/10 Needed to split into a list and then replace"
   ]
  },
  {
   "cell_type": "markdown",
   "metadata": {},
   "source": [
    "### 3. (10 Points) String Operations & List Comprehension\n",
    "Split the string below into a list of the words and then write a list comprehension that rejoins the words in \n",
    "upper case with a 👏 in between them. (if the emoji doesn't work use a '!' instead) Print it out. \n",
    "\n",
    "#### Expected Result >>> \n",
    "I 👏 AM 👏 GETTING 👏 SO 👏 MUCH 👏 BETTER 👏 AT 👏 PYTHON."
   ]
  },
  {
   "cell_type": "code",
   "execution_count": 7,
   "metadata": {},
   "outputs": [
    {
     "name": "stdout",
     "output_type": "stream",
     "text": [
      "I👏AM👏GETTING👏SO👏MUCH👏BETTER👏AT👏PYTHON.\n"
     ]
    }
   ],
   "source": [
    "statement = \"I am getting so much better at python.\"\n",
    "new = statement.split()\n",
    "## list comp goes here\n",
    "new1 = [a.upper() for a in new]\n",
    "new2 = '👏'.join(new1)\n",
    "## print statement here\n",
    "print(new2)"
   ]
  },
  {
   "cell_type": "markdown",
   "metadata": {},
   "source": [
    "10/10"
   ]
  },
  {
   "cell_type": "markdown",
   "metadata": {},
   "source": [
    "### 4. (10 Points) While Loops\n",
    "Write a while loop that while the count below is less than the length of the word you input in the input call below, it prints out each character of the word. \n",
    "\n",
    "After the loop executes, print \"What's that spell?\" + your word. \n",
    "\n",
    "#### Expected output in your print console >>>\n",
    "Ex. if the input word was 'hello': \n",
    "\n",
    "h \n",
    "\n",
    "e\n",
    "\n",
    "l\n",
    "\n",
    "l\n",
    "\n",
    "o\n",
    "\n",
    "What's that spell? Hello"
   ]
  },
  {
   "cell_type": "code",
   "execution_count": 11,
   "metadata": {
    "scrolled": true
   },
   "outputs": [
    {
     "name": "stdout",
     "output_type": "stream",
     "text": [
      "Enter a word: hello\n",
      "h\n",
      "e\n",
      "l\n",
      "l\n",
      "o\n",
      "What's that spell? Hello\n"
     ]
    }
   ],
   "source": [
    "word = input(\"Enter a word: \")\n",
    "\n",
    "count = 0\n",
    "\n",
    "while count < len(word):\n",
    "    print (word[count])\n",
    "    count += 1\n",
    "    \n",
    "## while loop goes here\n",
    " \n",
    "## print statment here\n",
    "print(\"What's that spell? \" + word.capitalize())"
   ]
  },
  {
   "cell_type": "markdown",
   "metadata": {},
   "source": [
    "10/10"
   ]
  },
  {
   "cell_type": "markdown",
   "metadata": {},
   "source": [
    "### 5. (5 Points) While Loops to For Loops\n",
    "\n",
    "Rewrite the while loop above as a for loop (even if you didn't get the loop above, try to create the same expected output with a for loop)"
   ]
  },
  {
   "cell_type": "code",
   "execution_count": 12,
   "metadata": {
    "scrolled": true
   },
   "outputs": [
    {
     "name": "stdout",
     "output_type": "stream",
     "text": [
      "Enter a word: hello\n",
      "h\n",
      "e\n",
      "l\n",
      "l\n",
      "o\n",
      "What's that spell? Hello\n"
     ]
    }
   ],
   "source": [
    "word = input(\"Enter a word: \")\n",
    "\n",
    "## for loop goes here\n",
    "for x in word:\n",
    "     print(x) \n",
    "        \n",
    "## print statment here\n",
    "print(\"What's that spell? \" + word.capitalize())"
   ]
  },
  {
   "cell_type": "markdown",
   "metadata": {},
   "source": [
    "5/5"
   ]
  },
  {
   "cell_type": "markdown",
   "metadata": {},
   "source": [
    "### 6. (10 Points) Dictionaries & Lists\n",
    "Create a dictionary from the 2 lists below (a few ways to do this!). Then remove the duplicate value from the dictionary.\n",
    "\n",
    "#### Expected output >>> \n",
    "\n",
    "{'a': 10, 'b': 20, 'c': 30, 'e': 50}"
   ]
  },
  {
   "cell_type": "code",
   "execution_count": 38,
   "metadata": {},
   "outputs": [
    {
     "name": "stdout",
     "output_type": "stream",
     "text": [
      "{'a': 10, 'b': 20, 'd': 30, 'e': 50}\n"
     ]
    }
   ],
   "source": [
    "list1 = ['a', 'b', 'c', 'd', 'e']\n",
    "list2 = [10, 20, 30, 30, 50]\n",
    "\n",
    "#res = {list1[i]: list2[i] for i in range(len(list1))}\n",
    "\n",
    "res = dict(zip(list1, list2))\n",
    "temp =[]\n",
    "temp = {val : key for key, val in res.items()}\n",
    "res1 = {val : key for key, val in temp.items()}\n",
    "print (str(res1))"
   ]
  },
  {
   "cell_type": "markdown",
   "metadata": {},
   "source": [
    "10/10"
   ]
  },
  {
   "cell_type": "markdown",
   "metadata": {},
   "source": [
    "### 7. Dictionaries & Strings (2 Parts)\n",
    "__Part 1 (5 Points):__ Take the string below and do the following: \n",
    "* split it into a list of words\n",
    "* strip out any punctuation"
   ]
  },
  {
   "cell_type": "code",
   "execution_count": 65,
   "metadata": {},
   "outputs": [],
   "source": [
    "#e.e. cummings\n",
    "cummings = '''it may not always be so; and i say\n",
    "that if your lips, which i have loved, should touch\n",
    "another’s, and your dear strong fingers clutch\n",
    "his heart, as mine in time not far away;\n",
    "if on another’s face your sweet hair lay\n",
    "in such silence as i know, or such\n",
    "great writhing words as, uttering overmuch,\n",
    "stand helplessly before the spirit at bay;\n",
    "\n",
    "if this should be, i say if this should be—\n",
    "you of my heart, send me a little word;\n",
    "that i may go unto him, and take his hands,\n",
    "saying, Accept all happiness from me.\n",
    "Then shall i turn my face, and hear one bird\n",
    "sing terribly afar in the lost lands'''"
   ]
  },
  {
   "cell_type": "code",
   "execution_count": 81,
   "metadata": {
    "scrolled": true
   },
   "outputs": [
    {
     "name": "stdout",
     "output_type": "stream",
     "text": [
      "['it', 'may', 'not', 'always', 'be', 'so', 'and', 'i', 'say', 'that', 'if', 'your', 'lips', 'which', 'i', 'have', 'loved', 'should', 'touch', 'another’s', 'and', 'your', 'dear', 'strong', 'fingers', 'clutch', 'his', 'heart', 'as', 'mine', 'in', 'time', 'not', 'far', 'away', 'if', 'on', 'another’s', 'face', 'your', 'sweet', 'hair', 'lay', 'in', 'such', 'silence', 'as', 'i', 'know', 'or', 'such', 'great', 'writhing', 'words', 'as', 'uttering', 'overmuch', 'stand', 'helplessly', 'before', 'the', 'spirit', 'at', 'bay', 'if', 'this', 'should', 'be', 'i', 'say', 'if', 'this', 'should', 'be—', 'you', 'of', 'my', 'heart', 'send', 'me', 'a', 'little', 'word', 'that', 'i', 'may', 'go', 'unto', 'him', 'and', 'take', 'his', 'hands', 'saying', 'Accept', 'all', 'happiness', 'from', 'me', 'Then', 'shall', 'i', 'turn', 'my', 'face', 'and', 'hear', 'one', 'bird', 'sing', 'terribly', 'afar', 'in', 'the', 'lost', 'lands']\n"
     ]
    }
   ],
   "source": [
    "import string\n",
    "\n",
    "new1 = cummings.translate(str.maketrans('', '',string.punctuation))\n",
    "\n",
    "print(new1.split())"
   ]
  },
  {
   "cell_type": "markdown",
   "metadata": {},
   "source": [
    "5/5"
   ]
  },
  {
   "cell_type": "markdown",
   "metadata": {},
   "source": [
    "__Part 2 (10 Points):__ Write a function that counts the occurences of the word in the list of words from the poem and saves them in a Dictionary with the word as the key and the frequency as the value. (Don't use Counter for this one) Run function on the poem above and print the results.\n",
    "\n",
    "#### Sample expected output>>> \n",
    "{'it': 1,\n",
    " 'may': 2,\n",
    " 'not': 2,"
   ]
  },
  {
   "cell_type": "code",
   "execution_count": 89,
   "metadata": {
    "scrolled": true
   },
   "outputs": [
    {
     "name": "stdout",
     "output_type": "stream",
     "text": [
      "{'it': 1, 'may': 2, 'not': 2, 'always': 1, 'be': 2, 'so': 1, 'and': 4, 'i': 6, 'say': 2, 'that': 2, 'if': 4, 'your': 3, 'lips': 1, 'which': 1, 'have': 1, 'loved': 1, 'should': 3, 'touch': 1, 'another’s': 2, 'dear': 1, 'strong': 1, 'fingers': 1, 'clutch': 1, 'his': 2, 'heart': 2, 'as': 3, 'mine': 1, 'in': 3, 'time': 1, 'far': 1, 'away': 1, 'on': 1, 'face': 2, 'sweet': 1, 'hair': 1, 'lay': 1, 'such': 2, 'silence': 1, 'know': 1, 'or': 1, 'great': 1, 'writhing': 1, 'words': 1, 'uttering': 1, 'overmuch': 1, 'stand': 1, 'helplessly': 1, 'before': 1, 'the': 2, 'spirit': 1, 'at': 1, 'bay': 1, 'this': 2, 'be—': 1, 'you': 1, 'of': 1, 'my': 2, 'send': 1, 'me': 2, 'a': 1, 'little': 1, 'word': 1, 'go': 1, 'unto': 1, 'him': 1, 'take': 1, 'hands': 1, 'saying': 1, 'Accept': 1, 'all': 1, 'happiness': 1, 'from': 1, 'Then': 1, 'shall': 1, 'turn': 1, 'hear': 1, 'one': 1, 'bird': 1, 'sing': 1, 'terribly': 1, 'afar': 1, 'lost': 1, 'lands': 1}\n"
     ]
    }
   ],
   "source": [
    "def word_count(str):\n",
    "    counts = dict()\n",
    "    words = str.split()\n",
    "\n",
    "    for word in words:\n",
    "        if word in counts:\n",
    "            counts[word] += 1\n",
    "        else:\n",
    "            counts[word] = 1\n",
    "\n",
    "    return counts\n",
    "\n",
    "print(dict(word_count(new1)))"
   ]
  },
  {
   "cell_type": "markdown",
   "metadata": {},
   "source": [
    "10/10"
   ]
  },
  {
   "cell_type": "markdown",
   "metadata": {},
   "source": [
    "### 8. (10 Points) Making Code More Efficient with Default Dict & Counter\n",
    "\n",
    "__Part 1 (5 points):__ The code below adds each word in the note below as a key with its frequency count as the value in a dictionary. Rewrite the code using defaultdict. Print your dictionary."
   ]
  },
  {
   "cell_type": "code",
   "execution_count": 2,
   "metadata": {},
   "outputs": [
    {
     "name": "stdout",
     "output_type": "stream",
     "text": [
      "We\n",
      "are\n",
      "going\n",
      "to\n",
      "use\n",
      "this\n",
      "note\n",
      "to\n",
      "test\n",
      "out\n",
      "writing\n",
      "better\n",
      "code\n",
      "and\n",
      "instead\n",
      "of\n",
      "having\n",
      "five\n",
      "lines\n",
      "in\n",
      "the\n",
      "for\n",
      "loop\n",
      "we\n",
      "can\n",
      "reduce\n",
      "to\n",
      "three\n",
      "with\n",
      "cool\n",
      "python\n",
      "libraries\n",
      "!\n",
      "{'We': 1, 'are': 1, 'going': 1, 'to': 3, 'use': 1, 'this': 1, 'note': 1, 'test': 1, 'out': 1, 'writing': 1, 'better': 1, 'code': 1, 'and': 1, 'instead': 1, 'of': 1, 'having': 1, 'five': 1, 'lines': 1, 'in': 1, 'the': 1, 'for': 1, 'loop': 1, 'we': 1, 'can': 1, 'reduce': 1, 'three': 1, 'with': 1, 'cool': 1, 'python': 1, 'libraries': 1, '!': 1}\n"
     ]
    }
   ],
   "source": [
    "note ='''We are going to use this note to test out writing better code and instead of having five lines in the for loop we can reduce to three with cool python libraries !'''\n",
    "\n",
    "word_dict = {}\n",
    "for word in note.split(\" \"):\n",
    "    print(word)\n",
    "    if word in word_dict:\n",
    "        word_dict[word]+=1\n",
    "    else:\n",
    "        word_dict[word]=1\n",
    "        \n",
    "print(word_dict)"
   ]
  },
  {
   "cell_type": "code",
   "execution_count": 4,
   "metadata": {},
   "outputs": [
    {
     "data": {
      "text/plain": [
       "defaultdict(int,\n",
       "            {'We': 1,\n",
       "             'are': 1,\n",
       "             'going': 1,\n",
       "             'to': 3,\n",
       "             'use': 1,\n",
       "             'this': 1,\n",
       "             'note': 1,\n",
       "             'test': 1,\n",
       "             'out': 1,\n",
       "             'writing': 1,\n",
       "             'better': 1,\n",
       "             'code': 1,\n",
       "             'and': 1,\n",
       "             'instead': 1,\n",
       "             'of': 1,\n",
       "             'having': 1,\n",
       "             'five': 1,\n",
       "             'lines': 1,\n",
       "             'in': 1,\n",
       "             'the': 1,\n",
       "             'for': 1,\n",
       "             'loop': 1,\n",
       "             'we': 1,\n",
       "             'can': 1,\n",
       "             'reduce': 1,\n",
       "             'three': 1,\n",
       "             'with': 1,\n",
       "             'cool': 1,\n",
       "             'python': 1,\n",
       "             'libraries': 1,\n",
       "             '!': 1})"
      ]
     },
     "execution_count": 4,
     "metadata": {},
     "output_type": "execute_result"
    }
   ],
   "source": [
    "\n",
    "from collections import defaultdict\n",
    "\n",
    "# Defining the dict\n",
    "default_d = defaultdict(int)\n",
    "for word in note.split(\" \"):\n",
    "    if word in default_d:\n",
    "        default_d[word] += 1\n",
    "    else:\n",
    "        default_d[word] = 1\n",
    "        \n",
    "default_d"
   ]
  },
  {
   "cell_type": "markdown",
   "metadata": {},
   "source": [
    "5/5"
   ]
  },
  {
   "cell_type": "markdown",
   "metadata": {},
   "source": [
    "__Part 2 (5 points):__ Rewrite the original code but this time using Counter to produce the same result.\n",
    "        Print out most the common word in the dictionary. "
   ]
  },
  {
   "cell_type": "code",
<<<<<<< HEAD
   "execution_count": 5,
   "metadata": {},
=======
   "execution_count": 133,
   "metadata": {
    "scrolled": true
   },
>>>>>>> b52d68e6d7675868b193b86e9deb67368a0b88e3
   "outputs": [
    {
     "data": {
      "text/plain": [
       "{'to': 3,\n",
       " 'We': 1,\n",
       " 'are': 1,\n",
       " 'going': 1,\n",
       " 'use': 1,\n",
       " 'this': 1,\n",
       " 'note': 1,\n",
       " 'test': 1,\n",
       " 'out': 1,\n",
       " 'writing': 1,\n",
       " 'better': 1,\n",
       " 'code': 1,\n",
       " 'and': 1,\n",
       " 'instead': 1,\n",
       " 'of': 1,\n",
       " 'having': 1,\n",
       " 'five': 1,\n",
       " 'lines': 1,\n",
       " 'in': 1,\n",
       " 'the': 1,\n",
       " 'for': 1,\n",
       " 'loop': 1,\n",
       " 'we': 1,\n",
       " 'can': 1,\n",
       " 'reduce': 1,\n",
       " 'three': 1,\n",
       " 'with': 1,\n",
       " 'cool': 1,\n",
       " 'python': 1,\n",
       " 'libraries': 1,\n",
       " '!': 1}"
      ]
     },
     "execution_count": 5,
     "metadata": {},
     "output_type": "execute_result"
    }
   ],
   "source": [
    "from collections import Counter\n",
    "_dict = Counter(note.split())\n",
    "_dict\n",
    "\n",
    "{k: v for k, v in sorted(_dict.items(), key=lambda item: item[1], reverse=True)}\n"
   ]
  },
  {
   "cell_type": "markdown",
   "metadata": {},
   "source": [
    "2.5/5 Needed to print most common word"
   ]
  },
  {
   "cell_type": "markdown",
   "metadata": {},
   "source": [
    "### 9. (10 Points) Default Dict & Nested Lists\n",
    "\n",
    "Use DefaultDict to iterate over the nested list below and add each repeating first element (e.g. 'spice', 'nut') \n",
    "as the key with the second element as a list of the values. Print the dictionary. \n",
    "\n",
    "#### Expected Result >>> \n",
    "defaultdict(<class 'list'>, {'spice': ['cumin', 'cinnamon', 'curry'], 'nut': ['almond', 'pecan', 'cashew']})"
   ]
  },
  {
   "cell_type": "code",
   "execution_count": 6,
   "metadata": {},
   "outputs": [],
   "source": [
    "foodList = [('spice', 'cumin'), ('spice', 'cinnamon'), ('spice', 'curry'), ('nut', 'almond'), \n",
    "     ('nut', 'pecan'),('nut','cashew')]"
   ]
  },
  {
   "cell_type": "code",
   "execution_count": 153,
   "metadata": {},
   "outputs": [
    {
     "name": "stdout",
     "output_type": "stream",
     "text": [
      "defaultdict(<class 'list'>, {'spice': ['cumin', 'cinnamon', 'curry'], 'nut': ['almond', 'pecan', 'cashew']})\n"
     ]
    }
   ],
   "source": [
    "from collections import defaultdict\n",
    "\n",
    "foodList_dd = defaultdict(list)\n",
    "\n",
    "for key,value in foodList :\n",
    "\n",
    "    foodList_dd[key].append(value)\n",
    "\n",
    "print(foodList_dd)"
   ]
  },
  {
   "cell_type": "markdown",
   "metadata": {},
   "source": [
    "10/10"
   ]
  },
  {
   "cell_type": "markdown",
   "metadata": {},
   "source": [
    "### 10. (10 Points) Dictionaries, Loops & Strings\n",
    "\n",
    "Given the list of names below, create a dictionary that uses the first letter of the name as the key,\n",
    "and the full name as the value/list of values. Print out your dictionary. \n",
    "\n",
    "Expected Output >>> \n",
    "{'m': ['mary'], 's': ['sal', 'sarah']}"
   ]
  },
  {
   "cell_type": "code",
   "execution_count": 156,
   "metadata": {},
   "outputs": [],
   "source": [
    "names = ['molly', 'sal', 'sarah']"
   ]
  },
  {
   "cell_type": "code",
   "execution_count": 159,
   "metadata": {},
   "outputs": [
    {
     "name": "stdout",
     "output_type": "stream",
     "text": [
      "{'m': ['molly'], 's': ['sal', 'sarah']}\n"
     ]
    }
   ],
   "source": [
    "dictionary={}\n",
    "for nm in range(len(names)):\n",
    "    name = names[nm] \n",
    "    key = name[0]\n",
    "    if key in dictionary.keys(): \n",
    "        mylist=dictionary[key] \n",
    "        mylist.append(name)\n",
    "        dictionary[key]=mylist\n",
    "    else:\n",
    "        lst=[] \n",
    "        lst.append(name)\n",
    "        dictionary[key]=lst\n",
    "    \n",
    "print(dictionary)"
   ]
  },
  {
   "cell_type": "markdown",
   "metadata": {},
   "source": [
    "10/10"
   ]
  },
  {
   "cell_type": "code",
   "execution_count": null,
   "metadata": {},
   "outputs": [],
   "source": []
  }
 ],
 "metadata": {
  "kernelspec": {
   "display_name": "Python 3",
   "language": "python",
   "name": "python3"
  },
  "language_info": {
   "codemirror_mode": {
    "name": "ipython",
    "version": 3
   },
   "file_extension": ".py",
   "mimetype": "text/x-python",
   "name": "python",
   "nbconvert_exporter": "python",
   "pygments_lexer": "ipython3",
   "version": "3.8.5"
  }
 },
 "nbformat": 4,
 "nbformat_minor": 4
}
